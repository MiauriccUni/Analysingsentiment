{
 "cells": [
  {
   "cell_type": "code",
   "execution_count": 8,
   "metadata": {},
   "outputs": [
    {
     "name": "stderr",
     "output_type": "stream",
     "text": [
      "No model was supplied, defaulted to distilbert/distilbert-base-uncased-finetuned-sst-2-english and revision af0f99b (https://huggingface.co/distilbert/distilbert-base-uncased-finetuned-sst-2-english).\n",
      "Using a pipeline without specifying a model name and revision in production is not recommended.\n",
      "c:\\Users\\ricar\\AppData\\Local\\Programs\\Python\\Python312\\Lib\\site-packages\\huggingface_hub\\file_download.py:1132: FutureWarning: `resume_download` is deprecated and will be removed in version 1.0.0. Downloads always resume when possible. If you want to force a new download, use `force_download=True`.\n",
      "  warnings.warn(\n"
     ]
    },
    {
     "data": {
      "image/png": "[encoded data removed]",
      "text/plain": [
       "<Figure size 640x480 with 1 Axes>"
      ]
     },
     "metadata": {},
     "output_type": "display_data"
    },
    {
     "name": "stdout",
     "output_type": "stream",
     "text": [
      "{'id': '12106213675671634', 'texto': '#BrechaAnuario2019 | Eduardo Bleier El martes 27 de agosto, el equipo de antropólogos encontró los restos de Eduardo Bleier en los fondos del Batallón 13, pero la identidad se sabría dos meses después.  https://brecha.com.uy/eduardo-bleier/ #RelecturasDeUnAñoPerturbador', 'usuario': 'SemanarioBrecha', 'hashtags': ['BrechaAnuario2019', 'RelecturasDeUnAñoPerturbador'], 'fecha': '2021-12-27T18:00:00.000Z', 'retweets': 3.0, 'favoritos': 14.0}\n"
     ]
    }
   ],
   "source": [
    "#Importamos la libreria que nos ayudara con la construccion del nuestro analisis.\n",
    "from transformers import pipeline\n",
    "#Importamos la libreria que nos ayudara a leer nuestro archivo .json.\n",
    "import json\n",
    "#Importamos la libreria que nos ayudara a hacer nuestro grafico o a mostrarlo.\n",
    "import matplotlib as plt\n",
    "\n",
    "#Cargamos nuestro analizador.\n",
    "sentiment_pipelinte = pipeline(\"sentiment-analysis\")\n",
    "\n",
    "#Cargamos nuestro archivo para leer\n",
    "with open('tweets_extraction (1).json') as file:\n",
    "        data = json.load(file)\n",
    "\n",
    "#Nuestro analisis solo toma un texto a la vez, por lo que no puede leer diccionarios, \n",
    "#debemos iterar cada texto que le presentemos.\n",
    "results = [sentiment_pipelinte(item['texto']) for item in data]\n",
    "\n",
    "#Sumamos segun el comentario positivo o negativo\n",
    "positive_comments = sum(1 for result in results if results[0]['label'] == 'POSITIVE')\n",
    "negative_comments = sum(1 for result in results if results[0]['label'] == 'NEGATIVE')\n",
    "#Hacemos un plot para ver la cantidad de comentarios positivos y negativos\n",
    "#Con plot veremos una grafica con la distribucion de cada uno(Negativo, Positivo)\n",
    "plt.bar(['Positive','Negative'], [positive_comments, negative_comments])\n",
    "plt.show()\n"
   ]
  },
  {
   "cell_type": "code",
   "execution_count": 10,
   "metadata": {},
   "outputs": [
    {
     "name": "stderr",
     "output_type": "stream",
     "text": [
      "No model was supplied, defaulted to distilbert/distilbert-base-uncased-finetuned-sst-2-english and revision af0f99b (https://huggingface.co/distilbert/distilbert-base-uncased-finetuned-sst-2-english).\n",
      "Using a pipeline without specifying a model name and revision in production is not recommended.\n"
     ]
    },
    {
     "data": {
      "image/png": "[encoded data removed]",
      "text/plain": [
       "<Figure size 640x480 with 1 Axes>"
      ]
     },
     "metadata": {},
     "output_type": "display_data"
    },
    {
     "name": "stdout",
     "output_type": "stream",
     "text": [
      "{'id': '12116529643744993', 'texto': '#BrechaAnuario2019 | Bolsonaro contra la selva amazónica En plena cruzada para aumentar su frontera agrícola y minera, Brasil arde con más de mil incendios por día. por Marcelo Aguilar https://brecha.com.uy/corte-raso-2/', 'usuario': 'SemanarioBrecha', 'hashtags': ['BrechaAnuario2019'], 'fecha': '2021-12-30T14:19:12.000Z', 'retweets': 3.0, 'favoritos': 2.0}\n"
     ]
    }
   ],
   "source": [
    "#Importamos la libreria que nos ayudara con la construccion del nuestro analisis.\n",
    "from transformers import pipeline\n",
    "#Importamos la libreria que nos ayudara a leer nuestro archivo .json.\n",
    "import json\n",
    "#Importamos la libreria que nos ayudara a hacer nuestro grafico o a mostrarlo.\n",
    "import matplotlib as plt\n",
    "import matplotlib.pyplot as plt\n",
    "\n",
    "#Cargamos nuestro analizador.\n",
    "sentiment_pipelinte = pipeline(\"sentiment-analysis\")\n",
    "\n",
    "#Cargamos nuestro archivo para leer\n",
    "with open('tweets_extraction (1).json') as file:\n",
    "        data = json.load(file)\n",
    "        \n",
    "      \n",
    "#Como analizar tantos datos dura tanto tiempo le daremos un rango para que analice de el 10 hasta el 20   \n",
    "start_index = 2\n",
    "end_index = 100\n",
    "\n",
    "selected_data = data[start_index:end_index]\n",
    "\n",
    "#Nuestro analisis solo toma un texto a la vez, por lo que no puede leer diccionarios, \n",
    "#debemos iterar cada texto que le presentemos.\n",
    "#results = [sentiment_pipelinte(item['texto']) for item in data]\n",
    "\n",
    "results = [sentiment_pipelinte(item['texto']) for item in selected_data]\n",
    "\n",
    "#Sumamos segun el comentario positivo o negativo\n",
    "positive_comments = sum(1 for result in results if result[0]['label'] == 'POSITIVE')\n",
    "negative_comments = sum(1 for result in results if result[0]['label'] == 'NEGATIVE')\n",
    "\n",
    "#Hacemos un plot para ver la cantidad de comentarios positivos y negativos\n",
    "#Con plot veremos una grafica con la distribucion de cada uno(Negativo, Positivo)\n",
    "plt.bar(['Positive','Negative'], [positive_comments, negative_comments])\n",
    "plt.show()\n",
    "print(selected_data[0])"
   ]
  },
  {
   "cell_type": "code",
   "execution_count": null,
   "metadata": {},
   "outputs": [],
   "source": []
  }
 ],
 "metadata": {
  "kernelspec": {
   "display_name": "Python 3",
   "language": "python",
   "name": "python3"
  },
  "language_info": {
   "codemirror_mode": {
    "name": "ipython",
    "version": 3
   },
   "file_extension": ".py",
   "mimetype": "text/x-python",
   "name": "python",
   "nbconvert_exporter": "python",
   "pygments_lexer": "ipython3",
   "version": "3.12.3"
  }
 },
 "nbformat": 4,
 "nbformat_minor": 2
}
